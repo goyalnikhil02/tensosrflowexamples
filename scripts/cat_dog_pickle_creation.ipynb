{
 "cells": [
  {
   "cell_type": "code",
   "execution_count": 2,
   "metadata": {},
   "outputs": [
    {
     "name": "stdout",
     "output_type": "stream",
     "text": [
      "24946\n"
     ]
    }
   ],
   "source": [
    "import numpy as np\n",
    "import matplotlib.pyplot as plt\n",
    "%matplotlib inline\n",
    "import os\n",
    "import cv2\n",
    "\n",
    "\n",
    "DATADIR = \"D://tensorflowdata//kagglecatsanddogs_3367a//PetImages\"\n",
    "CATEGORIES  = [\"CAT\",\"DOG\"]\n",
    "\n",
    "new_size=250\n",
    "\n",
    "training_data=[]\n",
    "\n",
    "def create_training_data():\n",
    "    for category in CATEGORIES:\n",
    "        path = os.path.join(DATADIR ,category)\n",
    "        class_num=CATEGORIES.index(category)\n",
    "        for img in os.listdir(path):\n",
    "            # since the rgb image is bigegr in size and color dosent to play any role in deciding the cat or dog\n",
    "            try:\n",
    "                img_array=cv2.imread(os.path.join(path,img),cv2.IMREAD_GRAYSCALE)\n",
    "            #plt.imshow(img_array,cmap=\"gray\")\n",
    "            #plt .show()\n",
    "                new_array=cv2.resize(img_array,(new_size,new_size))\n",
    "                training_data.append([new_array,class_num])\n",
    "                #break\n",
    "            except Exception:\n",
    "                pass\n",
    "\n",
    "                \n",
    "            \n",
    "create_training_data()\n",
    "#print(training_data[0])\n",
    "#print(img_array.shape) \n",
    "print(len(training_data))\n",
    "#print(training_data[0][1])\n",
    "#plt.imshow()\n",
    "    "
   ]
  },
  {
   "cell_type": "code",
   "execution_count": 3,
   "metadata": {},
   "outputs": [
    {
     "name": "stdout",
     "output_type": "stream",
     "text": [
      "1\n",
      "1\n",
      "1\n",
      "1\n",
      "0\n",
      "1\n",
      "0\n",
      "1\n",
      "0\n",
      "0\n"
     ]
    }
   ],
   "source": [
    "import random \n",
    "\n",
    "random.shuffle(training_data)\n",
    "for sampple in training_data[:10]:\n",
    "    print(sampple[1])\n",
    "    \n",
    "X =[]\n",
    "y =[]\n",
    "\n",
    "\n",
    "for features,labels in training_data:\n",
    "    X.append(features)\n",
    "    y.append(labels)\n",
    "    \n",
    "    \n",
    "X =np.array(X).reshape(-1,new_size,new_size,1)    # as 1 as we have gray scale images\n",
    "\n"
   ]
  },
  {
   "cell_type": "code",
   "execution_count": 6,
   "metadata": {},
   "outputs": [
    {
     "data": {
      "text/plain": [
       "array([[[182],\n",
       "        [183],\n",
       "        [184],\n",
       "        ...,\n",
       "        [163],\n",
       "        [161],\n",
       "        [163]],\n",
       "\n",
       "       [[180],\n",
       "        [181],\n",
       "        [181],\n",
       "        ...,\n",
       "        [164],\n",
       "        [161],\n",
       "        [161]],\n",
       "\n",
       "       [[188],\n",
       "        [184],\n",
       "        [181],\n",
       "        ...,\n",
       "        [164],\n",
       "        [164],\n",
       "        [164]],\n",
       "\n",
       "       ...,\n",
       "\n",
       "       [[120],\n",
       "        [124],\n",
       "        [123],\n",
       "        ...,\n",
       "        [ 83],\n",
       "        [ 80],\n",
       "        [ 78]],\n",
       "\n",
       "       [[114],\n",
       "        [123],\n",
       "        [122],\n",
       "        ...,\n",
       "        [ 79],\n",
       "        [ 82],\n",
       "        [ 81]],\n",
       "\n",
       "       [[120],\n",
       "        [125],\n",
       "        [131],\n",
       "        ...,\n",
       "        [ 81],\n",
       "        [ 84],\n",
       "        [ 83]]], dtype=uint8)"
      ]
     },
     "execution_count": 6,
     "metadata": {},
     "output_type": "execute_result"
    }
   ],
   "source": [
    "import pickle\n",
    "\n",
    "#to create the pickle file for the features\n",
    "# pickle_out=open(\"X.pickle\",\"wb\")\n",
    "# pickle.dump(X,pickle_out)\n",
    "# pickle_out.close()\n",
    "\n",
    "#to create the pickle file on the same directory for the labels\n",
    "\n",
    "\n",
    "# pickle_out=open(\"y.pickle\",\"wb\")\n",
    "# pickle.dump(y,pickle_out)\n",
    "# pickle_out.close()\n",
    "\n",
    "#pickle_in=open(\"X.pickle\",\"rb\")\n",
    "pickle_in=open(\"C://Users//g521784//tensorflowexample//X.pickle\",\"rb\")\n",
    "\n",
    "X=pickle.load(pickle_in)\n",
    "X[0]\n"
   ]
  },
  {
   "cell_type": "code",
   "execution_count": 23,
   "metadata": {},
   "outputs": [],
   "source": []
  },
  {
   "cell_type": "code",
   "execution_count": null,
   "metadata": {},
   "outputs": [],
   "source": []
  }
 ],
 "metadata": {
  "kernelspec": {
   "display_name": "Python 3",
   "language": "python",
   "name": "python3"
  },
  "language_info": {
   "codemirror_mode": {
    "name": "ipython",
    "version": 3
   },
   "file_extension": ".py",
   "mimetype": "text/x-python",
   "name": "python",
   "nbconvert_exporter": "python",
   "pygments_lexer": "ipython3",
   "version": "3.7.3"
  }
 },
 "nbformat": 4,
 "nbformat_minor": 2
}
